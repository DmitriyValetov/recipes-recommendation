{
 "cells": [
  {
   "cell_type": "code",
   "execution_count": 1,
   "metadata": {},
   "outputs": [],
   "source": [
    "from gensim.models.doc2vec import *\n",
    "import re\n",
    "from nltk.corpus import stopwords\n",
    "from pymystem3 import Mystem\n",
    "import pandas as pd"
   ]
  },
  {
   "cell_type": "code",
   "execution_count": 2,
   "metadata": {},
   "outputs": [],
   "source": [
    "regex = re.compile(\"[А-Яа-я]+\")\n",
    "mystopwords = stopwords.words('russian')\n",
    "m = Mystem()"
   ]
  },
  {
   "cell_type": "code",
   "execution_count": 3,
   "metadata": {},
   "outputs": [],
   "source": [
    "def tokenize(text, regex=regex):\n",
    "    try:\n",
    "        return \" \".join(regex.findall(text))\n",
    "    except:\n",
    "        return \"\"\n",
    "\n",
    "def remove_stopwords(text, mystopwords = mystopwords):\n",
    "    try:\n",
    "        return \" \".join([token for token in text.split() if not token in mystopwords])\n",
    "    except:\n",
    "        return \"\"\n",
    "\n",
    "def lemmatize(text, mystem=m):\n",
    "    try:\n",
    "        return \"\".join(m.lemmatize(text)).strip()  \n",
    "    except:\n",
    "        return \" \""
   ]
  },
  {
   "cell_type": "code",
   "execution_count": 4,
   "metadata": {},
   "outputs": [],
   "source": [
    "recommendation_model = Doc2Vec.load('recommendation.model')"
   ]
  },
  {
   "cell_type": "code",
   "execution_count": 5,
   "metadata": {},
   "outputs": [],
   "source": [
    "recipe = [line.rstrip('\\n') for line in open('recipe.txt')]"
   ]
  },
  {
   "cell_type": "code",
   "execution_count": 6,
   "metadata": {},
   "outputs": [],
   "source": [
    "tmp = \" \".join(recipe)\n",
    "tmp = tokenize(tmp)\n",
    "tmp = remove_stopwords(tmp)\n",
    "tmp = tmp.lower()\n",
    "tmp = lemmatize(tmp)"
   ]
  },
  {
   "cell_type": "code",
   "execution_count": 7,
   "metadata": {},
   "outputs": [
    {
     "name": "stderr",
     "output_type": "stream",
     "text": [
      "/anaconda3/lib/python3.7/site-packages/gensim/matutils.py:737: FutureWarning: Conversion of the second argument of issubdtype from `int` to `np.signedinteger` is deprecated. In future, it will be treated as `np.int64 == np.dtype(int).type`.\n",
      "  if np.issubdtype(vec.dtype, np.int):\n"
     ]
    }
   ],
   "source": [
    "y = recommendation_model.infer_vector(tmp.split(\" \"))\n",
    "res = recommendation_model.docvecs.most_similar([y])"
   ]
  },
  {
   "cell_type": "code",
   "execution_count": 8,
   "metadata": {},
   "outputs": [
    {
     "data": {
      "text/plain": [
       "[('1209', 0.7428027391433716),\n",
       " ('560', 0.715609073638916),\n",
       " ('1482', 0.7014120221138),\n",
       " ('1491', 0.6496767997741699),\n",
       " ('1773', 0.6379550695419312),\n",
       " ('1674', 0.6364237666130066),\n",
       " ('189', 0.6319464445114136),\n",
       " ('1116', 0.6235922574996948),\n",
       " ('1381', 0.6198793649673462),\n",
       " ('1275', 0.6150810718536377)]"
      ]
     },
     "execution_count": 8,
     "metadata": {},
     "output_type": "execute_result"
    }
   ],
   "source": [
    "res"
   ]
  },
  {
   "cell_type": "code",
   "execution_count": 9,
   "metadata": {},
   "outputs": [],
   "source": [
    "df = pd.read_csv('recipes.csv')"
   ]
  },
  {
   "cell_type": "code",
   "execution_count": 10,
   "metadata": {},
   "outputs": [
    {
     "name": "stdout",
     "output_type": "stream",
     "text": [
      "Похожие рецепты:\n",
      "Аппетитные куриные крылышки в медово-соевом соусе\n",
      "Куриные ножки в томатном соусе в духовке\n",
      "Аппетитный шашлык из курицы в духовке\n",
      "Вкуснейшая запеченная свиная вырезка с горчицей и медом\n",
      "Свиные ребрышки по-деревенски в духовке\n",
      "Свиная рулька в соусе ткемали и специях\n",
      "Аппетитные куриные ножки в пивном рассоле\n",
      "Запеченные куриные ножки в глянцевом соусе\n",
      "Аппетитные куриные крылья в соусе-глазури\n",
      "Запеченные свиные ребрышки\n"
     ]
    }
   ],
   "source": [
    "print('Похожие рецепты:')\n",
    "for i in range(10):\n",
    "    print(df.title[int(res[i][0])])"
   ]
  }
 ],
 "metadata": {
  "kernelspec": {
   "display_name": "Python 3",
   "language": "python",
   "name": "python3"
  },
  "language_info": {
   "codemirror_mode": {
    "name": "ipython",
    "version": 3
   },
   "file_extension": ".py",
   "mimetype": "text/x-python",
   "name": "python",
   "nbconvert_exporter": "python",
   "pygments_lexer": "ipython3",
   "version": "3.7.0"
  }
 },
 "nbformat": 4,
 "nbformat_minor": 2
}
